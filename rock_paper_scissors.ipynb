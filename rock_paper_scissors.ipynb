{
  "nbformat": 4,
  "nbformat_minor": 0,
  "metadata": {
    "colab": {
      "provenance": [],
      "collapsed_sections": [
        "_oKHRkQjT9sB"
      ],
      "authorship_tag": "ABX9TyO65smGRBwJ8ioZ+LARRjJL",
      "include_colab_link": true
    },
    "kernelspec": {
      "name": "python3",
      "display_name": "Python 3"
    },
    "language_info": {
      "name": "python"
    }
  },
  "cells": [
    {
      "cell_type": "markdown",
      "metadata": {
        "id": "view-in-github",
        "colab_type": "text"
      },
      "source": [
        "<a href=\"https://colab.research.google.com/github/LeonSilva15/fcc-machine-learning/blob/main/rock_paper_scissors.ipynb\" target=\"_parent\"><img src=\"https://colab.research.google.com/assets/colab-badge.svg\" alt=\"Open In Colab\"/></a>"
      ]
    },
    {
      "cell_type": "code",
      "execution_count": 173,
      "metadata": {
        "id": "Y0-ea7UoPO-O"
      },
      "outputs": [],
      "source": [
        "import unittest\n",
        "import random"
      ]
    },
    {
      "cell_type": "markdown",
      "source": [
        "## Context"
      ],
      "metadata": {
        "id": "5oDWLGpJaSMS"
      }
    },
    {
      "cell_type": "code",
      "source": [
        "actions = ['R', 'P', 'S']\n",
        "counter_play = {\n",
        "    'R': 'P',\n",
        "    'P': 'S',\n",
        "    'S': 'R'\n",
        "}\n",
        "probabilities = {}\n",
        "look_back_size = 5"
      ],
      "metadata": {
        "id": "8v6FuXbVCHCQ"
      },
      "execution_count": 174,
      "outputs": []
    },
    {
      "cell_type": "markdown",
      "source": [
        "## My machine learning player"
      ],
      "metadata": {
        "id": "wp0L5m-0UCXt"
      }
    },
    {
      "cell_type": "code",
      "source": [
        "def player(prev_play, opponent_history=[]):\n",
        "  if prev_play:\n",
        "    opponent_history.append(prev_play)\n",
        "\n",
        "  if len(opponent_history) > look_back_size:\n",
        "    # Create the last plays chunk as a single string key\n",
        "    last_play = ''.join( opponent_history[-look_back_size:] )\n",
        "    # Index to verify if this chunk previously existed\n",
        "    existing_last_play = ''.join( opponent_history[-(look_back_size + 1):] )\n",
        "\n",
        "    # Look if this is an existing pattern and increase its probability\n",
        "    if existing_last_play in probabilities:\n",
        "      probabilities[existing_last_play] += 1\n",
        "    # If it doesn't exist, add it\n",
        "    else:\n",
        "      probabilities[existing_last_play] = 1\n",
        "\n",
        "    # Add the candidates in 0 so we can use them in the prediciton\n",
        "    candidates = [last_play + 'R', last_play + 'P', last_play + 'S']\n",
        "    for candidate in candidates:\n",
        "      if not candidate in probabilities.keys():\n",
        "        probabilities[candidate] = 0\n",
        "\n",
        "    # Get the candidate with the most probabilities\n",
        "    prediction = max(candidates, key=lambda key: probabilities[key])[-1]\n",
        "\n",
        "    # Return the counter play of the prediction\n",
        "    return counter_play[ prediction ]\n",
        "\n",
        "  return random.choice(actions)"
      ],
      "metadata": {
        "id": "ZEzk4P_eSrcz"
      },
      "execution_count": 175,
      "outputs": []
    },
    {
      "cell_type": "markdown",
      "source": [
        "## Game creation"
      ],
      "metadata": {
        "id": "_oKHRkQjT9sB"
      }
    },
    {
      "cell_type": "code",
      "source": [
        "def play(player1, player2, num_games, verbose=False):\n",
        "    p1_prev_play = \"\"\n",
        "    p2_prev_play = \"\"\n",
        "    results = {\"p1\": 0, \"p2\": 0, \"tie\": 0}\n",
        "\n",
        "    for _ in range(num_games):\n",
        "        p1_play = player1(p2_prev_play)\n",
        "        p2_play = player2(p1_prev_play)\n",
        "\n",
        "        if p1_play == p2_play:\n",
        "            results[\"tie\"] += 1\n",
        "            winner = \"Tie.\"\n",
        "        elif (p1_play == \"P\" and p2_play == \"R\") or (\n",
        "                p1_play == \"R\" and p2_play == \"S\") or (p1_play == \"S\"\n",
        "                                                       and p2_play == \"P\"):\n",
        "            results[\"p1\"] += 1\n",
        "            winner = \"Player 1 wins.\"\n",
        "        elif p2_play == \"P\" and p1_play == \"R\" or p2_play == \"R\" and p1_play == \"S\" or p2_play == \"S\" and p1_play == \"P\":\n",
        "            results[\"p2\"] += 1\n",
        "            winner = \"Player 2 wins.\"\n",
        "\n",
        "        if verbose:\n",
        "            print(\"Player 1:\", p1_play, \"| Player 2:\", p2_play)\n",
        "            print(winner)\n",
        "            print()\n",
        "\n",
        "        p1_prev_play = p1_play\n",
        "        p2_prev_play = p2_play\n",
        "\n",
        "    games_won = results['p2'] + results['p1']\n",
        "\n",
        "    if games_won == 0:\n",
        "        win_rate = 0\n",
        "    else:\n",
        "        win_rate = results['p1'] / games_won * 100\n",
        "\n",
        "    print(\"Final results:\", results)\n",
        "    print(f\"Player 1 win rate: {win_rate}%\")\n",
        "\n",
        "    return (win_rate)\n",
        "\n",
        "\n",
        "def quincy(prev_play, counter=[0]):\n",
        "\n",
        "    counter[0] += 1\n",
        "    choices = [\"R\", \"R\", \"P\", \"P\", \"S\"]\n",
        "    return choices[counter[0] % len(choices)]\n",
        "\n",
        "\n",
        "def mrugesh(prev_opponent_play, opponent_history=[]):\n",
        "    opponent_history.append(prev_opponent_play)\n",
        "    last_ten = opponent_history[-10:]\n",
        "    most_frequent = max(set(last_ten), key=last_ten.count)\n",
        "\n",
        "    if most_frequent == '':\n",
        "        most_frequent = \"S\"\n",
        "\n",
        "    ideal_response = {'P': 'S', 'R': 'P', 'S': 'R'}\n",
        "    return ideal_response[most_frequent]\n",
        "\n",
        "\n",
        "def kris(prev_opponent_play):\n",
        "    if prev_opponent_play == '':\n",
        "        prev_opponent_play = \"R\"\n",
        "    ideal_response = {'P': 'S', 'R': 'P', 'S': 'R'}\n",
        "    return ideal_response[prev_opponent_play]\n",
        "\n",
        "\n",
        "def abbey(prev_opponent_play,\n",
        "          opponent_history=[],\n",
        "          play_order=[{\n",
        "              \"RR\": 0,\n",
        "              \"RP\": 0,\n",
        "              \"RS\": 0,\n",
        "              \"PR\": 0,\n",
        "              \"PP\": 0,\n",
        "              \"PS\": 0,\n",
        "              \"SR\": 0,\n",
        "              \"SP\": 0,\n",
        "              \"SS\": 0,\n",
        "          }]):\n",
        "\n",
        "    if not prev_opponent_play:\n",
        "        prev_opponent_play = 'R'\n",
        "    opponent_history.append(prev_opponent_play)\n",
        "\n",
        "    last_two = \"\".join(opponent_history[-2:])\n",
        "    if len(last_two) == 2:\n",
        "        play_order[0][last_two] += 1\n",
        "\n",
        "    potential_plays = [\n",
        "        prev_opponent_play + \"R\",\n",
        "        prev_opponent_play + \"P\",\n",
        "        prev_opponent_play + \"S\",\n",
        "    ]\n",
        "\n",
        "    sub_order = {\n",
        "        k: play_order[0][k]\n",
        "        for k in potential_plays if k in play_order[0]\n",
        "    }\n",
        "\n",
        "    prediction = max(sub_order, key=sub_order.get)[-1:]\n",
        "\n",
        "    ideal_response = {'P': 'S', 'R': 'P', 'S': 'R'}\n",
        "    return ideal_response[prediction]\n",
        "\n",
        "\n",
        "def human(prev_opponent_play):\n",
        "    play = \"\"\n",
        "    while play not in ['R', 'P', 'S']:\n",
        "        play = input(\"[R]ock, [P]aper, [S]cissors? \")\n",
        "        print(play)\n",
        "    return play\n",
        "\n",
        "\n",
        "def random_player(prev_opponent_play):\n",
        "    return random.choice(['R', 'P', 'S'])"
      ],
      "metadata": {
        "id": "59WdX-z0Rtfc"
      },
      "execution_count": 176,
      "outputs": []
    },
    {
      "cell_type": "markdown",
      "source": [
        "## Automated playing"
      ],
      "metadata": {
        "id": "8NtgpTL7T6SK"
      }
    },
    {
      "cell_type": "code",
      "source": [
        "play(player, quincy, 1000)\n",
        "play(player, abbey, 1000)\n",
        "play(player, kris, 1000)\n",
        "play(player, mrugesh, 1000)"
      ],
      "metadata": {
        "colab": {
          "base_uri": "https://localhost:8080/"
        },
        "id": "oonBJr2aSJ7v",
        "outputId": "8847dcc4-aa57-4cf6-c4e6-f84b85ce4abb"
      },
      "execution_count": 177,
      "outputs": [
        {
          "output_type": "stream",
          "name": "stdout",
          "text": [
            "Final results: {'p1': 991, 'p2': 5, 'tie': 4}\n",
            "Player 1 win rate: 99.49799196787149%\n",
            "Final results: {'p1': 443, 'p2': 315, 'tie': 242}\n",
            "Player 1 win rate: 58.443271767810025%\n",
            "Final results: {'p1': 644, 'p2': 209, 'tie': 147}\n",
            "Player 1 win rate: 75.49824150058618%\n",
            "Final results: {'p1': 818, 'p2': 166, 'tie': 16}\n",
            "Player 1 win rate: 83.130081300813%\n"
          ]
        },
        {
          "output_type": "execute_result",
          "data": {
            "text/plain": [
              "83.130081300813"
            ]
          },
          "metadata": {},
          "execution_count": 177
        }
      ]
    },
    {
      "cell_type": "markdown",
      "source": [
        "## Play interactively against a bot:"
      ],
      "metadata": {
        "id": "kI6hWAPVTvnN"
      }
    },
    {
      "cell_type": "code",
      "source": [
        "play(human, abbey, 20, verbose=True)"
      ],
      "metadata": {
        "id": "r9fvQahePRlA"
      },
      "execution_count": null,
      "outputs": []
    },
    {
      "cell_type": "markdown",
      "source": [
        "## Play against a bot that plays randomly"
      ],
      "metadata": {
        "id": "Mbd5JE7ETrIm"
      }
    },
    {
      "cell_type": "code",
      "source": [
        "play(human, random_player, 10)"
      ],
      "metadata": {
        "id": "DEQmJGfKPTyp"
      },
      "execution_count": null,
      "outputs": []
    },
    {
      "cell_type": "markdown",
      "source": [
        "## Tests"
      ],
      "metadata": {
        "id": "HvAj_GXQTyqR"
      }
    },
    {
      "cell_type": "code",
      "source": [
        "class UnitTests(unittest.TestCase):\n",
        "    def test_player_vs_quincy(self):\n",
        "        print(\"Testing game against quincy...\")\n",
        "        actual = play(player, quincy, 1000) >= 60\n",
        "        self.assertTrue(\n",
        "            actual,\n",
        "            'Expected player to defeat quincy at least 60% of the time.')\n",
        "\n",
        "    def test_player_vs_abbey(self):\n",
        "        print(\"Testing game against abbey...\")\n",
        "        actual = play(player, abbey, 1000) >= 60\n",
        "        self.assertTrue(\n",
        "            actual,\n",
        "            'Expected player to defeat abbey at least 60% of the time.')\n",
        "\n",
        "    def test_player_vs_kris(self):\n",
        "        print(\"Testing game against kris...\")\n",
        "        actual = play(player, kris, 1000) >= 60\n",
        "        self.assertTrue(\n",
        "            actual, 'Expected player to defeat kris at least 60% of the time.')\n",
        "\n",
        "    def test_player_vs_mrugesh(self):\n",
        "        print(\"Testing game against mrugesh...\")\n",
        "        actual = play(player, mrugesh, 1000) >= 60\n",
        "        self.assertTrue(\n",
        "            actual,\n",
        "            'Expected player to defeat mrugesh at least 60% of the time.')"
      ],
      "metadata": {
        "id": "9-H2bYwwRZjb"
      },
      "execution_count": 179,
      "outputs": []
    },
    {
      "cell_type": "markdown",
      "source": [
        "## Run the tests"
      ],
      "metadata": {
        "id": "hGf2O-H5T03S"
      }
    },
    {
      "cell_type": "code",
      "source": [
        "unittest.main( argv=[''], verbosity=2, exit=False )"
      ],
      "metadata": {
        "colab": {
          "base_uri": "https://localhost:8080/"
        },
        "id": "YC0XzvnDSR5c",
        "outputId": "25a2d08c-916c-49e2-a287-56077a50828e"
      },
      "execution_count": 186,
      "outputs": [
        {
          "output_type": "stream",
          "name": "stderr",
          "text": [
            "test_player_vs_abbey (__main__.UnitTests) ... ok\n",
            "test_player_vs_kris (__main__.UnitTests) ... ok\n",
            "test_player_vs_mrugesh (__main__.UnitTests) ... ok\n",
            "test_player_vs_quincy (__main__.UnitTests) ... ok\n",
            "\n",
            "----------------------------------------------------------------------\n",
            "Ran 4 tests in 0.054s\n",
            "\n",
            "OK\n"
          ]
        },
        {
          "output_type": "stream",
          "name": "stdout",
          "text": [
            "Testing game against abbey...\n",
            "Final results: {'p1': 525, 'p2': 247, 'tie': 228}\n",
            "Player 1 win rate: 68.00518134715026%\n",
            "Testing game against kris...\n",
            "Final results: {'p1': 994, 'p2': 2, 'tie': 4}\n",
            "Player 1 win rate: 99.79919678714859%\n",
            "Testing game against mrugesh...\n",
            "Final results: {'p1': 840, 'p2': 159, 'tie': 1}\n",
            "Player 1 win rate: 84.08408408408408%\n",
            "Testing game against quincy...\n",
            "Final results: {'p1': 997, 'p2': 2, 'tie': 1}\n",
            "Player 1 win rate: 99.7997997997998%\n"
          ]
        },
        {
          "output_type": "execute_result",
          "data": {
            "text/plain": [
              "<unittest.main.TestProgram at 0x7d4c3e0eabf0>"
            ]
          },
          "metadata": {},
          "execution_count": 186
        }
      ]
    }
  ]
}